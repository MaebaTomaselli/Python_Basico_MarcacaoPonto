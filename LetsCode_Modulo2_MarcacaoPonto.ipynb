{
 "cells": [
  {
   "cell_type": "markdown",
   "id": "8f65ec2b-7e26-473d-9b7f-f54c63d32ffe",
   "metadata": {},
   "source": [
    "# Avaliação módulo 2 - Degree Data Science - Marcação de ponto"
   ]
  },
  {
   "cell_type": "code",
   "execution_count": 17,
   "id": "d7ed20b6-75a7-4f53-9f17-c90cdb265984",
   "metadata": {},
   "outputs": [],
   "source": [
    "class Funcionario:\n",
    "\n",
    "    '''Classe que simula a checagem em um banco de dados da matrícula digitada '''\n",
    "    \n",
    "    def __init__(self):\n",
    "        \n",
    "        self.matricula = None\n",
    "        self.matricula_valida = False\n",
    "        self.matricula_banco = 123\n",
    "        \n",
    "        \n",
    "    def valida_matricula(self):\n",
    "        \n",
    "        '''Método que verifica se a matrícula existe e somente deixa continuar após digitação de uma matrícula válida ou zero para sair'''\n",
    "        \n",
    "        self.matricula = int(input (\"Digite sua matrícula ou digite 0 para sair: \"))\n",
    "    \n",
    "        while (self.matricula_valida == False and self.matricula != 0):\n",
    "            \n",
    "            if(self.matricula == self.matricula_banco):\n",
    "\n",
    "                print (\"Olá Maria\")\n",
    "                self.matricula_valida = True\n",
    "\n",
    "            else:\n",
    "                \n",
    "                print (\"Funcionário não cadastrado, favor digitar uma matrícula válida\")\n",
    "                self.matricula_valida = False\n",
    "                self.matricula = int(input (\"Digite sua matrícula ou digite 0 para sair: \"))\n"
   ]
  },
  {
   "cell_type": "code",
   "execution_count": 16,
   "id": "9a30d298-a54b-4ce8-9862-7250d76a4c99",
   "metadata": {},
   "outputs": [],
   "source": [
    "class Jornada:\n",
    "    \n",
    "    '''Classe para controlar os horários de entrada, almoço e saída do trabalho'''\n",
    "    \n",
    "    def __init__(self, dic_jornada):\n",
    "        \n",
    "        self.duracao_almoco = Horario(\"\")\n",
    "        self.dic_jornada = dic_jornada\n",
    "\n",
    "        \n",
    "    def horario_entrada(self):\n",
    "        \n",
    "        inicio_jornada = input(\"Digite o seu horário de início da jornada: \")\n",
    "        self.dic_jornada[\"entrada\"] = Horario(inicio_jornada)\n",
    "        \n",
    "        \n",
    "    def horario_almoco_inicio(self):\n",
    "        \n",
    "        inicio_almoco = input(\"Digite o seu horário de início do almoço: \")\n",
    "        #self.dic_jornada[\"inic_almoco\"] = self.separa_horario(inicio_almoco)\n",
    "        self.dic_jornada[\"inic_almoco\"] = Horario(inicio_almoco)\n",
    "\n",
    "        \n",
    "    def horario_almoco_fim(self):\n",
    "        \n",
    "        termino_almoco = input(\"Digite o seu horário de retorno do almoço: \")\n",
    "        horario_termino_almoco = Horario(termino_almoco)\n",
    "        \n",
    "        self.calcula_almoco(horario_termino_almoco)\n",
    "        #self.dic_jornada[\"fim_almoco\"] = self.separa_horario(termino_almoco)\n",
    "        self.dic_jornada[\"fim_almoco\"] = horario_termino_almoco\n",
    "        \n",
    "        \n",
    "    def calcula_almoco(self, horario_termino_almoco):\n",
    "        \n",
    "        '''Calcula o horário de almoço e não permite que o ponto seja batido se a duração do almoço for menor do que uma hora'''\n",
    "        \n",
    "        self.duracao_almoco = horario_termino_almoco - self.dic_jornada[\"inic_almoco\"]\n",
    "        \n",
    "        uma_hora = Horario(\"01:00:00\")\n",
    "        \n",
    "        while self.duracao_almoco < uma_hora:\n",
    "            \n",
    "            resta_almoco = uma_hora - self.duracao_almoco\n",
    "            \n",
    "            print (\"Seu almoço deve ter duração mínima de 1 hora, aguarde pelo menos \", resta_almoco.horario_lista[1], \"minutos para retornar ao trabalho\")\n",
    "            \n",
    "            termino_almoco = input(\"Digite o seu horário de retorno do almoço: \")\n",
    "            horario_termino_almoco = Horario(termino_almoco)\n",
    "            self.duracao_almoco = horario_termino_almoco - self.dic_jornada[\"inic_almoco\"]\n",
    "\n",
    "        \n",
    "        \n",
    "    def horario_saida(self):\n",
    "        \n",
    "        termino_jornada = input(\"Digite o seu horário de término da jornada: \")\n",
    "        self.dic_jornada[\"saida\"] = Horario(termino_jornada)\n",
    "        self.calcula_jornada()\n",
    "        \n",
    "        \n",
    "    def calcula_jornada(self):\n",
    "        \n",
    "        '''Calcula o tempo total trabalhado, indica a quantidade de horas trabalhadas (descontando o almoço) e alerta sobre jornadas maiores do que 10 horas'''\n",
    "        \n",
    "        tempo_trabalhado_hoje = self.dic_jornada[\"saida\"] - self.dic_jornada[\"entrada\"] - self.duracao_almoco\n",
    "    \n",
    "        if(tempo_trabalhado_hoje < Horario(\"10:00:00\")):\n",
    "            \n",
    "            print(\"Você trabalhou \", tempo_trabalhado_hoje.horario_lista[0],\":\", tempo_trabalhado_hoje.horario_lista[1],\":\",tempo_trabalhado_hoje.horario_lista[2],\" hoje\")\n",
    "            \n",
    "        else:\n",
    "            print(\"Você trabalhou \", tempo_trabalhado_hoje.horario_lista[0],\":\", tempo_trabalhado_hoje.horario_lista[1],\":\",tempo_trabalhado_hoje.horario_lista[2], \" hoje. Pelo amor, você sabe que não pode trabalhar mais do que 10 horas seguidas.\")"
   ]
  },
  {
   "cell_type": "code",
   "execution_count": 15,
   "id": "4340f460-66c8-4dcf-8cc9-63812228b007",
   "metadata": {},
   "outputs": [],
   "source": [
    "class Horario:\n",
    "    \n",
    "    '''Classe para realizar conversões da string horário em lista e realizar as operações de subtração e menor que dos horários'''\n",
    "    \n",
    "    def __init__(self,horario):\n",
    "        \n",
    "        self.horario = horario\n",
    "        self.horario_lista = horario.split(\":\")\n",
    "        \n",
    "        \n",
    "    def __sub__(self, outro_horario_lista):\n",
    "        \n",
    "        hora = int(self.horario_lista[0]) - int(outro_horario_lista.horario_lista[0])\n",
    "        minut = int(self.horario_lista[1]) - int(outro_horario_lista.horario_lista[1])\n",
    "        seg = int(self.horario_lista[2]) - int(outro_horario_lista.horario_lista[2])\n",
    "\n",
    "        while seg < 0:\n",
    "            minut = minut - 1\n",
    "            seg = seg + 60\n",
    "\n",
    "        while minut < 0:\n",
    "            hora = hora - 1\n",
    "            minut = minut + 60\n",
    "\n",
    "        while hora < 0:\n",
    "            hora = hora + 24\n",
    "            \n",
    "        return Horario(str(hora) + \":\" + str(minut) + \":\" + str(seg))\n",
    "        \n",
    "        \n",
    "    def __lt__(self, outro_horario_lista):\n",
    "        \n",
    "        if int(self.horario_lista[0]) < int(outro_horario_lista.horario_lista[0]):\n",
    "            \n",
    "            return True\n",
    "        \n",
    "        elif int(self.horario_lista[0]) == int(outro_horario_lista.horario_lista[0]) and int(self.horario_lista[1]) < int(outro_horario_lista.horario_lista[1]):\n",
    "\n",
    "            return True\n",
    "        \n",
    "        elif int(self.horario_lista[0]) == int(outro_horario_lista.horario_lista[0]) and int(self.horario_lista[1]) == int(outro_horario_lista.horario_lista[1]) and int(self.horario_lista[2]) < int(outro_horario_lista.horario_lista[2]):\n",
    "\n",
    "            return True\n",
    "        \n",
    "        else:\n",
    "            return False"
   ]
  },
  {
   "cell_type": "code",
   "execution_count": 14,
   "id": "e157b2e5-eb0d-4323-a4df-b068d6aa2c54",
   "metadata": {},
   "outputs": [],
   "source": [
    "class Ponto_Funcionario:\n",
    "    \n",
    "    '''Classe que apresenta em tela as opções para registro de ponto e chama os métodos de validação. Necessário digitação sequencial de todos os horários'''\n",
    "    \n",
    "    def __init__(self, dic_jornada):\n",
    "        \n",
    "        self.dic_jornada = dic_jornada\n",
    "        \n",
    "    \n",
    "    def run(self):\n",
    "        \n",
    "        funcionario = Funcionario()\n",
    "        funcionario.valida_matricula()\n",
    "\n",
    "        jornada_funcionario = Jornada(self.dic_jornada)\n",
    "        \n",
    "        o_que_fazer = None\n",
    "\n",
    "        while o_que_fazer != 0 and funcionario.matricula !=0:\n",
    "\n",
    "            if o_que_fazer == 1:\n",
    "\n",
    "                print(\"===Inclusão do horário de início da jornada===\\n\")\n",
    "                jornada_funcionario.horario_entrada()\n",
    "                print('\\n===Obrigado, horário de início de jornada registrado===\\n')\n",
    "\n",
    "            elif o_que_fazer == 2:\n",
    "\n",
    "                print(\"===Inclusão do horário de início do horário de almoço===\\n\")\n",
    "                jornada_funcionario.horario_almoco_inicio()\n",
    "                print('\\n===Obrigado. horário de início do horário de almoço registrado===\\n')\n",
    "\n",
    "            elif o_que_fazer == 3:\n",
    "\n",
    "                print('===Inclusão do horário de término do horário de almoço===\\n') \n",
    "                jornada_funcionario.horario_almoco_fim()\n",
    "                print('\\n===Obrigado. horário de término do horário de almoço registrado===\\n')\n",
    "                \n",
    "            elif o_que_fazer == 4:\n",
    "\n",
    "                print('===Inclusão do horário de término da jornada de trabalho===\\n') \n",
    "                jornada_funcionario.horario_saida()\n",
    "                print('\\n===Obrigado. horário de término da jornada de trabalho registrado===\\n')\n",
    "\n",
    "            o_que_fazer = int(input(\"O que deseja fazer?\"\n",
    "                                    \"\\n1 - Apontar o início da jornada\"\n",
    "                                    \"\\n2 - Apontar o horário de início do almoço\"\n",
    "                                    \"\\n3 - Apontar o horário final do almoço\"\n",
    "                                    \"\\n4 - Apontar o final da jornada\"\n",
    "                                    \"\\n0 - Sair\\n\"))\n",
    "\n",
    "        print('===Fim===')    "
   ]
  },
  {
   "cell_type": "code",
   "execution_count": 19,
   "id": "897c3730-9db0-4e1a-8faf-7b06d5e9224d",
   "metadata": {},
   "outputs": [
    {
     "name": "stdin",
     "output_type": "stream",
     "text": [
      "Digite sua matrícula ou digite 0 para sair:  123\n"
     ]
    },
    {
     "name": "stdout",
     "output_type": "stream",
     "text": [
      "Olá Maria\n"
     ]
    },
    {
     "name": "stdin",
     "output_type": "stream",
     "text": [
      "O que deseja fazer?\n",
      "1 - Apontar o início da jornada\n",
      "2 - Apontar o horário de início do almoço\n",
      "3 - Apontar o horário final do almoço\n",
      "4 - Apontar o final da jornada\n",
      "0 - Sair\n",
      " 1\n"
     ]
    },
    {
     "name": "stdout",
     "output_type": "stream",
     "text": [
      "===Inclusão do horário de início da jornada===\n",
      "\n"
     ]
    },
    {
     "name": "stdin",
     "output_type": "stream",
     "text": [
      "Digite o seu horário de início da jornada:  08:00:00\n"
     ]
    },
    {
     "name": "stdout",
     "output_type": "stream",
     "text": [
      "\n",
      "===Obrigado, horário de início de jornada registrado===\n",
      "\n"
     ]
    },
    {
     "name": "stdin",
     "output_type": "stream",
     "text": [
      "O que deseja fazer?\n",
      "1 - Apontar o início da jornada\n",
      "2 - Apontar o horário de início do almoço\n",
      "3 - Apontar o horário final do almoço\n",
      "4 - Apontar o final da jornada\n",
      "0 - Sair\n",
      " 0\n"
     ]
    },
    {
     "name": "stdout",
     "output_type": "stream",
     "text": [
      "===Fim===\n"
     ]
    }
   ],
   "source": [
    "'''Registro de ponto dos funcionários'''\n",
    "dic_jornada = {\"entrada\":[], \n",
    "              \"inic_almoco\":[],\n",
    "              \"fim_almoco\":[],\n",
    "              \"saida\":[]\n",
    "              }\n",
    "\n",
    "folha_ponto = Ponto_Funcionario(dic_jornada)\n",
    "folha_ponto.run()"
   ]
  },
  {
   "cell_type": "code",
   "execution_count": null,
   "id": "82384971-c6fb-425e-aa23-599e0acf5af7",
   "metadata": {},
   "outputs": [],
   "source": []
  }
 ],
 "metadata": {
  "kernelspec": {
   "display_name": "Python 3",
   "language": "python",
   "name": "python3"
  },
  "language_info": {
   "codemirror_mode": {
    "name": "ipython",
    "version": 3
   },
   "file_extension": ".py",
   "mimetype": "text/x-python",
   "name": "python",
   "nbconvert_exporter": "python",
   "pygments_lexer": "ipython3",
   "version": "3.8.8"
  }
 },
 "nbformat": 4,
 "nbformat_minor": 5
}
